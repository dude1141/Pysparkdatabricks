{
 "cells": [
  {
   "cell_type": "code",
   "execution_count": 0,
   "metadata": {
    "application/vnd.databricks.v1+cell": {
     "cellMetadata": {
      "byteLimit": 2048000,
      "rowLimit": 10000
     },
     "inputWidgets": {},
     "nuid": "87231c14-1e6c-4f3b-ae68-f29f63d275a6",
     "showTitle": false,
     "tableResultSettingsMap": {},
     "title": ""
    }
   },
   "outputs": [
    {
     "output_type": "execute_result",
     "data": {
      "text/plain": [
       "True"
      ]
     },
     "execution_count": 22,
     "metadata": {},
     "output_type": "execute_result"
    }
   ],
   "source": [
    "dbutils.fs.mkdirs(\"/FileStore/mithlesh123adf\")\n",
    "\n",
    "#you need to create a fielstore and import and csv or other files and then link the path of the file read the data\n"
   ]
  },
  {
   "cell_type": "code",
   "execution_count": 0,
   "metadata": {
    "application/vnd.databricks.v1+cell": {
     "cellMetadata": {
      "byteLimit": 2048000,
      "rowLimit": 10000
     },
     "inputWidgets": {},
     "nuid": "215c53ed-de18-4bb2-aad2-706e9dcca040",
     "showTitle": false,
     "tableResultSettingsMap": {},
     "title": ""
    }
   },
   "outputs": [
    {
     "output_type": "execute_result",
     "data": {
      "text/plain": [
       "[FileInfo(path='dbfs:/FileStore/A_Srikanth_B64/', name='A_Srikanth_B64/', size=0, modificationTime=1761897136000),\n",
       " FileInfo(path='dbfs:/FileStore/Anil_01/', name='Anil_01/', size=0, modificationTime=1761745090000),\n",
       " FileInfo(path='dbfs:/FileStore/Chinna_Batch_66/', name='Chinna_Batch_66/', size=0, modificationTime=1761832771000),\n",
       " FileInfo(path='dbfs:/FileStore/Eshwar_batch_66/', name='Eshwar_batch_66/', size=0, modificationTime=1761824869000),\n",
       " FileInfo(path='dbfs:/FileStore/Naveen_b66/', name='Naveen_b66/', size=0, modificationTime=1761875519000),\n",
       " FileInfo(path='dbfs:/FileStore/Prasanna_64/', name='Prasanna_64/', size=0, modificationTime=1761728915000),\n",
       " FileInfo(path='dbfs:/FileStore/Priya_Batch62/', name='Priya_Batch62/', size=0, modificationTime=1761888048000),\n",
       " FileInfo(path='dbfs:/FileStore/Purushotham_batch64/', name='Purushotham_batch64/', size=0, modificationTime=1761739678000),\n",
       " FileInfo(path='dbfs:/FileStore/SandeepBatch60/', name='SandeepBatch60/', size=0, modificationTime=1761742881000),\n",
       " FileInfo(path='dbfs:/FileStore/Vishweshwar_b66/', name='Vishweshwar_b66/', size=0, modificationTime=1761871631000),\n",
       " FileInfo(path='dbfs:/FileStore/Yesh_batch62/', name='Yesh_batch62/', size=0, modificationTime=1761928148000),\n",
       " FileInfo(path='dbfs:/FileStore/Yesh_kumar_batch62/', name='Yesh_kumar_batch62/', size=0, modificationTime=1761929070000),\n",
       " FileInfo(path='dbfs:/FileStore/bhanu62/', name='bhanu62/', size=0, modificationTime=1761741812000),\n",
       " FileInfo(path='dbfs:/FileStore/cust_01052025-1.csv', name='cust_01052025-1.csv', size=87, modificationTime=1761896745000),\n",
       " FileInfo(path='dbfs:/FileStore/cust_01052025.csv', name='cust_01052025.csv', size=87, modificationTime=1761895348000),\n",
       " FileInfo(path='dbfs:/FileStore/employee.csv', name='employee.csv', size=57, modificationTime=1761933838000),\n",
       " FileInfo(path='dbfs:/FileStore/gouse/', name='gouse/', size=0, modificationTime=1761895023000),\n",
       " FileInfo(path='dbfs:/FileStore/loma_batch_66/', name='loma_batch_66/', size=0, modificationTime=1761844926000),\n",
       " FileInfo(path='dbfs:/FileStore/manoj_databricks_b63/', name='manoj_databricks_b63/', size=0, modificationTime=1761722017000),\n",
       " FileInfo(path='dbfs:/FileStore/mithlesh123adf/', name='mithlesh123adf/', size=0, modificationTime=1761934061000),\n",
       " FileInfo(path='dbfs:/FileStore/mounika_batch63/', name='mounika_batch63/', size=0, modificationTime=1761720732000),\n",
       " FileInfo(path='dbfs:/FileStore/nagarjuna_batch64/', name='nagarjuna_batch64/', size=0, modificationTime=1761815967000),\n",
       " FileInfo(path='dbfs:/FileStore/prithivi_16/', name='prithivi_16/', size=0, modificationTime=1761831283000),\n",
       " FileInfo(path='dbfs:/FileStore/prsn_1.csv', name='prsn_1.csv', size=55, modificationTime=1761920874000),\n",
       " FileInfo(path='dbfs:/FileStore/rahul_batch64/', name='rahul_batch64/', size=0, modificationTime=1761871896000),\n",
       " FileInfo(path='dbfs:/FileStore/ravichandra/', name='ravichandra/', size=0, modificationTime=1761930352000),\n",
       " FileInfo(path='dbfs:/FileStore/rohan_batch64/', name='rohan_batch64/', size=0, modificationTime=1761721160000),\n",
       " FileInfo(path='dbfs:/FileStore/rukmitha_batch66/', name='rukmitha_batch66/', size=0, modificationTime=1761842929000),\n",
       " FileInfo(path='dbfs:/FileStore/satish_batch64/', name='satish_batch64/', size=0, modificationTime=1761911008000),\n",
       " FileInfo(path='dbfs:/FileStore/shoaib_batch64/', name='shoaib_batch64/', size=0, modificationTime=1761907672000),\n",
       " FileInfo(path='dbfs:/FileStore/sijo_batch_66/', name='sijo_batch_66/', size=0, modificationTime=1761884980000),\n",
       " FileInfo(path='dbfs:/FileStore/sivakrishna/', name='sivakrishna/', size=0, modificationTime=1761830842000),\n",
       " FileInfo(path='dbfs:/FileStore/spandana_batch64/', name='spandana_batch64/', size=0, modificationTime=1761807607000),\n",
       " FileInfo(path='dbfs:/FileStore/srinivas_batch_64/', name='srinivas_batch_64/', size=0, modificationTime=1761839355000),\n",
       " FileInfo(path='dbfs:/FileStore/srinivas_batch_66/', name='srinivas_batch_66/', size=0, modificationTime=1761788905000),\n",
       " FileInfo(path='dbfs:/FileStore/tables/', name='tables/', size=0, modificationTime=1761886091000),\n",
       " FileInfo(path='dbfs:/FileStore/veerab62/', name='veerab62/', size=0, modificationTime=1761888169000),\n",
       " FileInfo(path='dbfs:/FileStore/yeshwanthreddy/', name='yeshwanthreddy/', size=0, modificationTime=1761799761000)]"
      ]
     },
     "execution_count": 12,
     "metadata": {},
     "output_type": "execute_result"
    }
   ],
   "source": [
    "dbutils.fs.ls('dbfs:/FileStore/')"
   ]
  },
  {
   "cell_type": "code",
   "execution_count": 0,
   "metadata": {
    "application/vnd.databricks.v1+cell": {
     "cellMetadata": {
      "byteLimit": 2048000,
      "rowLimit": 10000
     },
     "inputWidgets": {},
     "nuid": "b52cf7a8-6958-4946-97db-d40c20e72693",
     "showTitle": false,
     "tableResultSettingsMap": {},
     "title": ""
    }
   },
   "outputs": [
    {
     "output_type": "display_data",
     "data": {
      "text/html": [
       "<style scoped>\n",
       "  .table-result-container {\n",
       "    max-height: 300px;\n",
       "    overflow: auto;\n",
       "  }\n",
       "  table, th, td {\n",
       "    border: 1px solid black;\n",
       "    border-collapse: collapse;\n",
       "  }\n",
       "  th, td {\n",
       "    padding: 5px;\n",
       "  }\n",
       "  th {\n",
       "    text-align: left;\n",
       "  }\n",
       "</style><div class='table-result-container'><table class='table-result'><thead style='background-color: white'><tr><th>path</th><th>name</th><th>size</th><th>modificationTime</th></tr></thead><tbody><tr><td>dbfs:/FileStore/A_Srikanth_B64/</td><td>A_Srikanth_B64/</td><td>0</td><td>1761897136000</td></tr><tr><td>dbfs:/FileStore/Anil_01/</td><td>Anil_01/</td><td>0</td><td>1761745090000</td></tr><tr><td>dbfs:/FileStore/Chinna_Batch_66/</td><td>Chinna_Batch_66/</td><td>0</td><td>1761832771000</td></tr><tr><td>dbfs:/FileStore/Eshwar_batch_66/</td><td>Eshwar_batch_66/</td><td>0</td><td>1761824869000</td></tr><tr><td>dbfs:/FileStore/Naveen_b66/</td><td>Naveen_b66/</td><td>0</td><td>1761875519000</td></tr><tr><td>dbfs:/FileStore/Prasanna_64/</td><td>Prasanna_64/</td><td>0</td><td>1761728915000</td></tr><tr><td>dbfs:/FileStore/Priya_Batch62/</td><td>Priya_Batch62/</td><td>0</td><td>1761888048000</td></tr><tr><td>dbfs:/FileStore/Purushotham_batch64/</td><td>Purushotham_batch64/</td><td>0</td><td>1761739678000</td></tr><tr><td>dbfs:/FileStore/SandeepBatch60/</td><td>SandeepBatch60/</td><td>0</td><td>1761742881000</td></tr><tr><td>dbfs:/FileStore/Vishweshwar_b66/</td><td>Vishweshwar_b66/</td><td>0</td><td>1761871631000</td></tr><tr><td>dbfs:/FileStore/Yesh_batch62/</td><td>Yesh_batch62/</td><td>0</td><td>1761928148000</td></tr><tr><td>dbfs:/FileStore/Yesh_kumar_batch62/</td><td>Yesh_kumar_batch62/</td><td>0</td><td>1761929070000</td></tr><tr><td>dbfs:/FileStore/bhanu62/</td><td>bhanu62/</td><td>0</td><td>1761741812000</td></tr><tr><td>dbfs:/FileStore/cust_01052025-1.csv</td><td>cust_01052025-1.csv</td><td>87</td><td>1761896745000</td></tr><tr><td>dbfs:/FileStore/cust_01052025.csv</td><td>cust_01052025.csv</td><td>87</td><td>1761895348000</td></tr><tr><td>dbfs:/FileStore/employee-1.csv</td><td>employee-1.csv</td><td>57</td><td>1761934097000</td></tr><tr><td>dbfs:/FileStore/employee.csv</td><td>employee.csv</td><td>57</td><td>1761933838000</td></tr><tr><td>dbfs:/FileStore/gouse/</td><td>gouse/</td><td>0</td><td>1761895023000</td></tr><tr><td>dbfs:/FileStore/loma_batch_66/</td><td>loma_batch_66/</td><td>0</td><td>1761844926000</td></tr><tr><td>dbfs:/FileStore/manoj_databricks_b63/</td><td>manoj_databricks_b63/</td><td>0</td><td>1761722017000</td></tr><tr><td>dbfs:/FileStore/mithlesh123adf/</td><td>mithlesh123adf/</td><td>0</td><td>1761934061000</td></tr><tr><td>dbfs:/FileStore/mounika_batch63/</td><td>mounika_batch63/</td><td>0</td><td>1761720732000</td></tr><tr><td>dbfs:/FileStore/nagarjuna_batch64/</td><td>nagarjuna_batch64/</td><td>0</td><td>1761815967000</td></tr><tr><td>dbfs:/FileStore/prithivi_16/</td><td>prithivi_16/</td><td>0</td><td>1761831283000</td></tr><tr><td>dbfs:/FileStore/prsn_1.csv</td><td>prsn_1.csv</td><td>55</td><td>1761920874000</td></tr><tr><td>dbfs:/FileStore/rahul_batch64/</td><td>rahul_batch64/</td><td>0</td><td>1761871896000</td></tr><tr><td>dbfs:/FileStore/ravichandra/</td><td>ravichandra/</td><td>0</td><td>1761930352000</td></tr><tr><td>dbfs:/FileStore/rohan_batch64/</td><td>rohan_batch64/</td><td>0</td><td>1761721160000</td></tr><tr><td>dbfs:/FileStore/rukmitha_batch66/</td><td>rukmitha_batch66/</td><td>0</td><td>1761842929000</td></tr><tr><td>dbfs:/FileStore/satish_batch64/</td><td>satish_batch64/</td><td>0</td><td>1761911008000</td></tr><tr><td>dbfs:/FileStore/shoaib_batch64/</td><td>shoaib_batch64/</td><td>0</td><td>1761907672000</td></tr><tr><td>dbfs:/FileStore/sijo_batch_66/</td><td>sijo_batch_66/</td><td>0</td><td>1761884980000</td></tr><tr><td>dbfs:/FileStore/sivakrishna/</td><td>sivakrishna/</td><td>0</td><td>1761830842000</td></tr><tr><td>dbfs:/FileStore/spandana_batch64/</td><td>spandana_batch64/</td><td>0</td><td>1761807607000</td></tr><tr><td>dbfs:/FileStore/srinivas_batch_64/</td><td>srinivas_batch_64/</td><td>0</td><td>1761839355000</td></tr><tr><td>dbfs:/FileStore/srinivas_batch_66/</td><td>srinivas_batch_66/</td><td>0</td><td>1761788905000</td></tr><tr><td>dbfs:/FileStore/tables/</td><td>tables/</td><td>0</td><td>1761886091000</td></tr><tr><td>dbfs:/FileStore/veerab62/</td><td>veerab62/</td><td>0</td><td>1761888169000</td></tr><tr><td>dbfs:/FileStore/yeshwanthreddy/</td><td>yeshwanthreddy/</td><td>0</td><td>1761799761000</td></tr></tbody></table></div>"
      ]
     },
     "metadata": {
      "application/vnd.databricks.v1+output": {
       "addedWidgets": {},
       "aggData": [],
       "aggError": "",
       "aggOverflow": false,
       "aggSchema": [],
       "aggSeriesLimitReached": false,
       "aggType": "",
       "arguments": {},
       "columnCustomDisplayInfos": {},
       "data": [
        [
         "dbfs:/FileStore/A_Srikanth_B64/",
         "A_Srikanth_B64/",
         0,
         1761897136000
        ],
        [
         "dbfs:/FileStore/Anil_01/",
         "Anil_01/",
         0,
         1761745090000
        ],
        [
         "dbfs:/FileStore/Chinna_Batch_66/",
         "Chinna_Batch_66/",
         0,
         1761832771000
        ],
        [
         "dbfs:/FileStore/Eshwar_batch_66/",
         "Eshwar_batch_66/",
         0,
         1761824869000
        ],
        [
         "dbfs:/FileStore/Naveen_b66/",
         "Naveen_b66/",
         0,
         1761875519000
        ],
        [
         "dbfs:/FileStore/Prasanna_64/",
         "Prasanna_64/",
         0,
         1761728915000
        ],
        [
         "dbfs:/FileStore/Priya_Batch62/",
         "Priya_Batch62/",
         0,
         1761888048000
        ],
        [
         "dbfs:/FileStore/Purushotham_batch64/",
         "Purushotham_batch64/",
         0,
         1761739678000
        ],
        [
         "dbfs:/FileStore/SandeepBatch60/",
         "SandeepBatch60/",
         0,
         1761742881000
        ],
        [
         "dbfs:/FileStore/Vishweshwar_b66/",
         "Vishweshwar_b66/",
         0,
         1761871631000
        ],
        [
         "dbfs:/FileStore/Yesh_batch62/",
         "Yesh_batch62/",
         0,
         1761928148000
        ],
        [
         "dbfs:/FileStore/Yesh_kumar_batch62/",
         "Yesh_kumar_batch62/",
         0,
         1761929070000
        ],
        [
         "dbfs:/FileStore/bhanu62/",
         "bhanu62/",
         0,
         1761741812000
        ],
        [
         "dbfs:/FileStore/cust_01052025-1.csv",
         "cust_01052025-1.csv",
         87,
         1761896745000
        ],
        [
         "dbfs:/FileStore/cust_01052025.csv",
         "cust_01052025.csv",
         87,
         1761895348000
        ],
        [
         "dbfs:/FileStore/employee-1.csv",
         "employee-1.csv",
         57,
         1761934097000
        ],
        [
         "dbfs:/FileStore/employee.csv",
         "employee.csv",
         57,
         1761933838000
        ],
        [
         "dbfs:/FileStore/gouse/",
         "gouse/",
         0,
         1761895023000
        ],
        [
         "dbfs:/FileStore/loma_batch_66/",
         "loma_batch_66/",
         0,
         1761844926000
        ],
        [
         "dbfs:/FileStore/manoj_databricks_b63/",
         "manoj_databricks_b63/",
         0,
         1761722017000
        ],
        [
         "dbfs:/FileStore/mithlesh123adf/",
         "mithlesh123adf/",
         0,
         1761934061000
        ],
        [
         "dbfs:/FileStore/mounika_batch63/",
         "mounika_batch63/",
         0,
         1761720732000
        ],
        [
         "dbfs:/FileStore/nagarjuna_batch64/",
         "nagarjuna_batch64/",
         0,
         1761815967000
        ],
        [
         "dbfs:/FileStore/prithivi_16/",
         "prithivi_16/",
         0,
         1761831283000
        ],
        [
         "dbfs:/FileStore/prsn_1.csv",
         "prsn_1.csv",
         55,
         1761920874000
        ],
        [
         "dbfs:/FileStore/rahul_batch64/",
         "rahul_batch64/",
         0,
         1761871896000
        ],
        [
         "dbfs:/FileStore/ravichandra/",
         "ravichandra/",
         0,
         1761930352000
        ],
        [
         "dbfs:/FileStore/rohan_batch64/",
         "rohan_batch64/",
         0,
         1761721160000
        ],
        [
         "dbfs:/FileStore/rukmitha_batch66/",
         "rukmitha_batch66/",
         0,
         1761842929000
        ],
        [
         "dbfs:/FileStore/satish_batch64/",
         "satish_batch64/",
         0,
         1761911008000
        ],
        [
         "dbfs:/FileStore/shoaib_batch64/",
         "shoaib_batch64/",
         0,
         1761907672000
        ],
        [
         "dbfs:/FileStore/sijo_batch_66/",
         "sijo_batch_66/",
         0,
         1761884980000
        ],
        [
         "dbfs:/FileStore/sivakrishna/",
         "sivakrishna/",
         0,
         1761830842000
        ],
        [
         "dbfs:/FileStore/spandana_batch64/",
         "spandana_batch64/",
         0,
         1761807607000
        ],
        [
         "dbfs:/FileStore/srinivas_batch_64/",
         "srinivas_batch_64/",
         0,
         1761839355000
        ],
        [
         "dbfs:/FileStore/srinivas_batch_66/",
         "srinivas_batch_66/",
         0,
         1761788905000
        ],
        [
         "dbfs:/FileStore/tables/",
         "tables/",
         0,
         1761886091000
        ],
        [
         "dbfs:/FileStore/veerab62/",
         "veerab62/",
         0,
         1761888169000
        ],
        [
         "dbfs:/FileStore/yeshwanthreddy/",
         "yeshwanthreddy/",
         0,
         1761799761000
        ]
       ],
       "datasetInfos": [],
       "dbfsResultPath": null,
       "isJsonSchema": true,
       "metadata": {},
       "overflow": false,
       "plotOptions": {
        "customPlotOptions": {},
        "displayType": "table",
        "pivotAggregation": null,
        "pivotColumns": null,
        "xColumns": null,
        "yColumns": null
       },
       "removedWidgets": [],
       "schema": [
        {
         "metadata": "{}",
         "name": "path",
         "type": "\"string\""
        },
        {
         "metadata": "{}",
         "name": "name",
         "type": "\"string\""
        },
        {
         "metadata": "{}",
         "name": "size",
         "type": "\"long\""
        },
        {
         "metadata": "{}",
         "name": "modificationTime",
         "type": "\"long\""
        }
       ],
       "type": "table"
      }
     },
     "output_type": "display_data"
    }
   ],
   "source": [
    "display(\n",
    "  dbutils.fs.ls(\"dbfs:/FileStore/\")\n",
    ")"
   ]
  },
  {
   "cell_type": "code",
   "execution_count": 0,
   "metadata": {
    "application/vnd.databricks.v1+cell": {
     "cellMetadata": {
      "byteLimit": 2048000,
      "rowLimit": 10000
     },
     "inputWidgets": {},
     "nuid": "5e9ea511-ddc1-441c-a175-3bf1fe993e4a",
     "showTitle": false,
     "tableResultSettingsMap": {},
     "title": ""
    }
   },
   "outputs": [
    {
     "output_type": "execute_result",
     "data": {
      "text/plain": [
       "[FileInfo(path='dbfs:/FileStore/mithlesh123adf/employee.csv', name='employee.csv', size=57, modificationTime=1761934127000)]"
      ]
     },
     "execution_count": 18,
     "metadata": {},
     "output_type": "execute_result"
    }
   ],
   "source": [
    "dbutils.fs.ls('dbfs:/FileStore/mithlesh123adf/')"
   ]
  },
  {
   "cell_type": "code",
   "execution_count": 0,
   "metadata": {
    "application/vnd.databricks.v1+cell": {
     "cellMetadata": {
      "byteLimit": 2048000,
      "rowLimit": 10000
     },
     "collapsed": true,
     "inputWidgets": {},
     "nuid": "96f5dc89-1e95-4471-a00a-e1bbaee88d3a",
     "showTitle": false,
     "tableResultSettingsMap": {},
     "title": ""
    }
   },
   "outputs": [
    {
     "output_type": "display_data",
     "data": {
      "text/html": [
       "<style scoped>\n",
       "  .table-result-container {\n",
       "    max-height: 300px;\n",
       "    overflow: auto;\n",
       "  }\n",
       "  table, th, td {\n",
       "    border: 1px solid black;\n",
       "    border-collapse: collapse;\n",
       "  }\n",
       "  th, td {\n",
       "    padding: 5px;\n",
       "  }\n",
       "  th {\n",
       "    text-align: left;\n",
       "  }\n",
       "</style><div class='table-result-container'><table class='table-result'><thead style='background-color: white'><tr><th>id</th><th>name</th><th>dept_id</th></tr></thead><tbody><tr><td>101</td><td>dev</td><td>1</td></tr><tr><td>102</td><td>ravi</td><td>1</td></tr><tr><td>103</td><td>atul</td><td>null</td></tr><tr><td>104</td><td>isha</td><td>2</td></tr></tbody></table></div>"
      ]
     },
     "metadata": {
      "application/vnd.databricks.v1+output": {
       "addedWidgets": {},
       "aggData": [],
       "aggError": "",
       "aggOverflow": false,
       "aggSchema": [],
       "aggSeriesLimitReached": false,
       "aggType": "",
       "arguments": {},
       "columnCustomDisplayInfos": {},
       "data": [
        [
         101,
         "dev",
         1
        ],
        [
         102,
         "ravi",
         1
        ],
        [
         103,
         "atul",
         null
        ],
        [
         104,
         "isha",
         2
        ]
       ],
       "datasetInfos": [],
       "dbfsResultPath": null,
       "isJsonSchema": true,
       "metadata": {},
       "overflow": false,
       "plotOptions": {
        "customPlotOptions": {},
        "displayType": "table",
        "pivotAggregation": null,
        "pivotColumns": null,
        "xColumns": null,
        "yColumns": null
       },
       "removedWidgets": [],
       "schema": [
        {
         "metadata": "{}",
         "name": "id",
         "type": "\"integer\""
        },
        {
         "metadata": "{}",
         "name": "name",
         "type": "\"string\""
        },
        {
         "metadata": "{}",
         "name": "dept_id",
         "type": "\"integer\""
        }
       ],
       "type": "table"
      }
     },
     "output_type": "display_data"
    }
   ],
   "source": [
    "df_csv = spark.read.format('csv').option('header',True).option('inferSchema',True).load('dbfs:/FileStore/mithlesh123adf/employee.csv')\n",
    "\n",
    "display(df_csv)"
   ]
  }
 ],
 "metadata": {
  "application/vnd.databricks.v1+notebook": {
   "computePreferences": null,
   "dashboards": [],
   "environmentMetadata": null,
   "inputWidgetPreferences": null,
   "language": "python",
   "notebookMetadata": {
    "pythonIndentUnit": 4
   },
   "notebookName": "3.2.Reading CSV File",
   "widgets": {}
  },
  "language_info": {
   "name": "python"
  }
 },
 "nbformat": 4,
 "nbformat_minor": 0
}