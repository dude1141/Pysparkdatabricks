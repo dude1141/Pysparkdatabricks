{
 "cells": [
  {
   "cell_type": "code",
   "execution_count": 0,
   "metadata": {
    "application/vnd.databricks.v1+cell": {
     "cellMetadata": {
      "byteLimit": 2048000,
      "rowLimit": 10000
     },
     "inputWidgets": {},
     "nuid": "ada53cd0-09c7-4eab-83e0-f2fac42a5bdc",
     "showTitle": false,
     "tableResultSettingsMap": {},
     "title": ""
    }
   },
   "outputs": [
    {
     "output_type": "stream",
     "name": "stdout",
     "output_type": "stream",
     "text": [
      "0 1\n1 2\n2 3\n3 54\n4 6\n"
     ]
    }
   ],
   "source": [
    "l1=[1,2,3,54,6]\n",
    "for i,v in enumerate(l1):\n",
    "    print(i,v)"
   ]
  },
  {
   "cell_type": "code",
   "execution_count": 0,
   "metadata": {
    "application/vnd.databricks.v1+cell": {
     "cellMetadata": {
      "byteLimit": 2048000,
      "rowLimit": 10000
     },
     "inputWidgets": {},
     "nuid": "33236ceb-cc59-43d6-84c8-66156fa572e2",
     "showTitle": false,
     "tableResultSettingsMap": {},
     "title": ""
    }
   },
   "outputs": [
    {
     "output_type": "stream",
     "name": "stdout",
     "output_type": "stream",
     "text": [
      "before\nhello\nafter\n"
     ]
    }
   ],
   "source": [
    "#decorators are used to log function calls and enforce access control.\n",
    "def myfunc(func):\n",
    "    def wrapper():\n",
    "        print(\"before\")\n",
    "        func()\n",
    "        print(\"after\")\n",
    "    return wrapper\n",
    "\n",
    "@myfunc\n",
    "def myfuncr():\n",
    "    print(\"hello\")\n",
    "\n",
    "myfuncr()"
   ]
  },
  {
   "cell_type": "code",
   "execution_count": 0,
   "metadata": {
    "application/vnd.databricks.v1+cell": {
     "cellMetadata": {
      "byteLimit": 2048000,
      "rowLimit": 10000
     },
     "inputWidgets": {},
     "nuid": "0eedfa27-3472-40a5-8d50-7aa30d8cfbec",
     "showTitle": false,
     "tableResultSettingsMap": {},
     "title": ""
    }
   },
   "outputs": [
    {
     "output_type": "stream",
     "name": "stdout",
     "output_type": "stream",
     "text": [
      "a2[i] 1\na2[i] 2\na2[i] 3\na2[i] 5\na2[i] 6\na2[i] 7\na2[i] 8\na2[i] 8\na2[i] 9\na2[i] 9\na2[i] 9\n2\n"
     ]
    }
   ],
   "source": [
    "a2=[1,2,3,5,6,7,8,8,9,9,9]\n",
    "def methods(n:int):\n",
    "    c=0\n",
    "    for i in range(len(a2)):\n",
    "        print(\"a2[i]\",a2[i])\n",
    "        if a2[i] == n:\n",
    "            c=c+1\n",
    "    print(c)\n",
    "methods(8)\n",
    "\n"
   ]
  },
  {
   "cell_type": "code",
   "execution_count": 0,
   "metadata": {
    "application/vnd.databricks.v1+cell": {
     "cellMetadata": {
      "byteLimit": 2048000,
      "rowLimit": 10000
     },
     "inputWidgets": {},
     "nuid": "1bba8f5b-f586-4f18-abe7-c643172031e7",
     "showTitle": false,
     "tableResultSettingsMap": {},
     "title": ""
    }
   },
   "outputs": [
    {
     "output_type": "stream",
     "name": "stdout",
     "output_type": "stream",
     "text": [
      "odd\n"
     ]
    }
   ],
   "source": [
    "def methods(n):\n",
    "    if n%2==0:\n",
    "        print(\"even\")\n",
    "    else:\n",
    "\n",
    "        print(\"odd\")\n",
    "\n",
    "methods(5)\n",
    "\n",
    "\n",
    "\n"
   ]
  },
  {
   "cell_type": "code",
   "execution_count": 0,
   "metadata": {
    "application/vnd.databricks.v1+cell": {
     "cellMetadata": {
      "byteLimit": 2048000,
      "rowLimit": 10000
     },
     "inputWidgets": {},
     "nuid": "2c5c12bf-cc88-475a-a4f5-5d317cdf52d3",
     "showTitle": false,
     "tableResultSettingsMap": {},
     "title": ""
    }
   },
   "outputs": [
    {
     "output_type": "stream",
     "name": "stdout",
     "output_type": "stream",
     "text": [
      "odd\neven [2]\nodd\neven [2, 4]\nodd\neven [2, 4, 6]\nodd\n"
     ]
    }
   ],
   "source": [
    "a1=[1,2,3,4,5,6,7]\n",
    "even=[]\n",
    "odd=[]\n",
    "def methods():\n",
    "    for i in range(len(a1)):\n",
    "        if a1[i]%2==0:\n",
    "            even.append(a1[i])\n",
    "            print(\"even\",even)\n",
    "        else:\n",
    "            print(\"odd\")\n",
    "methods()"
   ]
  }
 ],
 "metadata": {
  "application/vnd.databricks.v1+notebook": {
   "computePreferences": null,
   "dashboards": [],
   "environmentMetadata": {
    "base_environment": "",
    "environment_version": "4"
   },
   "inputWidgetPreferences": null,
   "language": "python",
   "notebookMetadata": {
    "pythonIndentUnit": 4
   },
   "notebookName": "Untitled Notebook 2025-10-31 12:49:21",
   "widgets": {}
  },
  "language_info": {
   "name": "python"
  }
 },
 "nbformat": 4,
 "nbformat_minor": 0
}